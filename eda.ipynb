{
 "cells": [
  {
   "cell_type": "code",
   "execution_count": 2,
   "metadata": {
    "vscode": {
     "languageId": "r"
    }
   },
   "outputs": [
    {
     "ename": "ERROR",
     "evalue": "Error in library(dev): there is no package called ‘dev’\n",
     "output_type": "error",
     "traceback": [
      "Error in library(dev): there is no package called ‘dev’\nTraceback:\n",
      "1. library(dev)"
     ]
    }
   ],
   "source": [
    "# Read the tables\n",
    "table1 <- read.csv(\"table1.csv\", header = TRUE)\n",
    "table2 <- read.csv(\"table2.csv\", header = TRUE)\n",
    "table3 <- read.csv(\"table3.csv\", header = TRUE)\n",
    "\n",
    "# Add a new column to identify the origin\n",
    "table1$origin <- \"Table1\"\n",
    "table2$origin <- \"Table2\"\n",
    "table3$origin <- \"Table3\"\n",
    "\n",
    "# Concatenate the tables vertically\n",
    "merged_table <- rbind(table1, table2, table3)\n",
    "\n",
    "# Print or view the merged table\n",
    "print(merged_table)\n"
   ]
  },
  {
   "cell_type": "code",
   "execution_count": null,
   "metadata": {
    "vscode": {
     "languageId": "r"
    }
   },
   "outputs": [],
   "source": []
  }
 ],
 "metadata": {
  "kernelspec": {
   "display_name": "R",
   "language": "R",
   "name": "ir"
  },
  "language_info": {
   "codemirror_mode": "r",
   "file_extension": ".r",
   "mimetype": "text/x-r-source",
   "name": "R",
   "pygments_lexer": "r",
   "version": "4.3.1"
  }
 },
 "nbformat": 4,
 "nbformat_minor": 2
}
